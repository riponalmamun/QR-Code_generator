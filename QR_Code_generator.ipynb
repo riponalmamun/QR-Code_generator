{
  "nbformat": 4,
  "nbformat_minor": 0,
  "metadata": {
    "colab": {
      "provenance": []
    },
    "kernelspec": {
      "name": "python3",
      "display_name": "Python 3"
    },
    "language_info": {
      "name": "python"
    }
  },
  "cells": [
    {
      "cell_type": "code",
      "source": [
        "!pip install qrcode"
      ],
      "metadata": {
        "colab": {
          "base_uri": "https://localhost:8080/"
        },
        "id": "bVAd_ebRCI53",
        "outputId": "73f0ec7a-b905-4e08-edc2-beb846dbe06e"
      },
      "execution_count": 6,
      "outputs": [
        {
          "output_type": "stream",
          "name": "stdout",
          "text": [
            "Requirement already satisfied: qrcode in /usr/local/lib/python3.11/dist-packages (8.2)\n"
          ]
        }
      ]
    },
    {
      "cell_type": "code",
      "execution_count": 5,
      "metadata": {
        "colab": {
          "base_uri": "https://localhost:8080/"
        },
        "id": "Lme0CjTJBvK7",
        "outputId": "83e50150-881a-483e-cee3-43acccfcd41d"
      },
      "outputs": [
        {
          "output_type": "stream",
          "name": "stdout",
          "text": [
            "[b'https://www.google.com/']\n"
          ]
        }
      ],
      "source": [
        "import qrcode\n",
        "\n",
        "# Enter url of any website here.\n",
        "input_URL = \"https://www.google.com/\"\n",
        "\n",
        "qr = qrcode.QRCode(\n",
        "    version=1,\n",
        "    error_correction=qrcode.constants.ERROR_CORRECT_L,\n",
        "    box_size=15,\n",
        "    border=4,\n",
        ")\n",
        "\n",
        "qr.add_data(input_URL)\n",
        "qr.make(fit=True)\n",
        "\n",
        "# convert into image\n",
        "img = qr.make_image(fill_color=\"red\", back_color=\"white\")\n",
        "img.save(\"/content/url_qrcode.png\")\n",
        "\n",
        "print(qr.data_list)"
      ]
    }
  ]
}